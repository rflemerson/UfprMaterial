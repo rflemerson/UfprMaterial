{
 "metadata": {
  "language_info": {
   "codemirror_mode": {
    "name": "ipython",
    "version": 3
   },
   "file_extension": ".py",
   "mimetype": "text/x-python",
   "name": "python",
   "nbconvert_exporter": "python",
   "pygments_lexer": "ipython3",
   "version": "3.9.5"
  },
  "orig_nbformat": 2,
  "kernelspec": {
   "name": "python3",
   "display_name": "Python 3.9.5 64-bit"
  },
  "interpreter": {
   "hash": "916dbcbb3f70747c44a77c7bcd40155683ae19c65e1c03b4aa3499c5328201f1"
  }
 },
 "nbformat": 4,
 "nbformat_minor": 2,
 "cells": [
  {
   "cell_type": "markdown",
   "source": [
    "\\- Lista de Exercícios III - "
   ],
   "metadata": {}
  },
  {
   "cell_type": "code",
   "execution_count": 1,
   "source": [
    "import numpy as np\n",
    "import matplotlib.pyplot as plt"
   ],
   "outputs": [],
   "metadata": {}
  },
  {
   "cell_type": "markdown",
   "source": [
    "1) Calculando área aproximada\n",
    "\n",
    "\n",
    "   Empregando a função f(x) = 2x, integrada no intervalo \\[1, 4\\],\n",
    "   tem-se como solução analítica 15.\n",
    "\n",
    "   \n",
    "   Elabore um programa que aplique a Soma de Riemann para estimar a área\n",
    "   solicitando ao usuário o tamanho do passo (base do retângulo), apresente\n",
    "   o valor estimado da área e o erro relativo.\n",
    "\n",
    "   Os passos devem ser frações exatas de 1, como por exemplo:\n",
    "\n",
    "   1, 0.5, 0.25, 0.125, 0.1, 0.0625, 0.05, 0.04, 0.03125, 0.025, 0.0125 etc\n",
    "\n",
    "   para não extrapolarem o intervalo.\n",
    "   \n",
    "\n",
    "   Erro relativo = | analitico - aproximado | / | analítico |\n",
    "   \n",
    "\n",
    "   Plote o gráfico apresentando os retângulos, o valor aproximado e o erro\n",
    "   relativo.\n",
    "\n",
    "   Dica para plotar os retângulos: simplesmente usar plt.bar (deixando as cores sem interferir)\n",
    "   \n",
    "   https://matplotlib.org/stable/api/_as_gen/matplotlib.pyplot.bar.html\n",
    "\n",
    "\n",
    "   Para comparar o resultados, crie 3 gráficos (sub plots) na mesma plotagem\n",
    "   e contabilize os três valores da área calculada:\n",
    "\n",
    "   - pegando altura pela esquerda (antes do passo)\n",
    "\n",
    "   - pegando altura no meio (métade do passo)\n",
    "\n",
    "   - pegando altura pela direita (depois do passo)\n",
    "   "
   ],
   "metadata": {}
  },
  {
   "cell_type": "code",
   "execution_count": 2,
   "source": [
    "def riemann_sum(f, inf, sup, dx, position):\n",
    "    # Se a soma for pela extremiade direita, a compensacao\n",
    "    # para comecar pelo lado correto vai ser o passo\n",
    "    if position == 'right':\n",
    "        comp = dx\n",
    "\n",
    "    # Se for pelo centro, a compensacao e a metade do passo\n",
    "    elif position == 'center':\n",
    "        comp = dx/2\n",
    "\n",
    "    # Caso seja pela esquerda, nao ha compensacao\n",
    "    else:\n",
    "        comp = 0\n",
    "\n",
    "    # O resultado e calculado aplicando a funcao para\n",
    "    # cada ponto da iteracao no intervalo definido\n",
    "    result = np.asarray([[x, f(x)]\n",
    "                        for x in np.arange(inf + comp, sup + comp, dx)])\n",
    "\n",
    "    # Pontos do intervalo com passo dx, eixo x,\n",
    "    # representando a base dos retangulos\n",
    "    x = result[:, 0]\n",
    "    # Imagem, f(x), do pontos do eixo x, sendo\n",
    "    # tambem a altura dos retangulos\n",
    "    y = result[:, 1]\n",
    "    # Area abaixo da curva da funcao, somatoria da altura\n",
    "    # de todos os retangulos, vezes o tamanho da base\n",
    "    area = np.sum(y) * dx\n",
    "\n",
    "    return x, y, area"
   ],
   "outputs": [],
   "metadata": {}
  },
  {
   "cell_type": "code",
   "execution_count": 3,
   "source": [
    "def plot_riemann_sum(f, inf, sup, dx, solution):\n",
    "    # Define tamanho da plotagem\n",
    "    plt.figure(figsize=(10, 5))\n",
    "\n",
    "    # Calcula a soma pela direita\n",
    "    x, y, area = riemann_sum(f, inf, sup, dx, position='right')\n",
    "    erro = np.abs(solution - area) / solution  # Erro relativo\n",
    "\n",
    "    # Plotagem do resultado calculado pela direita\n",
    "    plt.subplot(1, 3, 1)\n",
    "    plt.plot(x, y, 'r.-', markersize=10)\n",
    "    plt.bar(x, y, width=-dx, align='edge',\n",
    "            color='r', alpha=0.3, edgecolor='r')\n",
    "    plt.title(f'Área aproximada: {area:.1f}\\nErro: {erro*100:.1f}%')\n",
    "\n",
    "    # Calcula a soma pelo centro\n",
    "    x, y, area = riemann_sum(f, inf, sup, dx, position='center')\n",
    "    erro = np.abs(solution - area) / solution  # Erro relativo\n",
    "\n",
    "    # Plotagem do resultado calculado pelo centro\n",
    "    plt.subplot(1, 3, 2)\n",
    "    plt.plot(x, y, 'g.-', markersize=10)\n",
    "    plt.bar(x, y, width=dx, align='center',\n",
    "            color='g', alpha=0.3,  edgecolor='g')\n",
    "    plt.title(f'Área aproximada: {area:.1f}\\nErro: {erro*100:.1f}%')\n",
    "\n",
    "    # Calcula a soma pela esquerda\n",
    "    x, y, area = riemann_sum(f, inf, sup, dx, position='left')\n",
    "    erro = np.abs(solution - area) / solution  # Erro relativo\n",
    "\n",
    "    # Plotagem do resultado calculado pela esquerda\n",
    "    plt.subplot(1, 3, 3)\n",
    "    plt.plot(x, y, 'b.-', markersize=10)\n",
    "    plt.bar(x, y, width=dx, align='edge',\n",
    "            color='b', alpha=0.3, edgecolor='b')\n",
    "    plt.title(f'Área aproximada: {area:.1f}\\nErro: {erro*100:.1f}%')\n",
    "    plt.show()"
   ],
   "outputs": [],
   "metadata": {}
  },
  {
   "cell_type": "code",
   "execution_count": 4,
   "source": [
    "# Funcao f(x) = 2x\n",
    "def f(x): return 2*x\n",
    "\n",
    "inf = 1          # Limite inferior\n",
    "sup = 4          # Limite superior\n",
    "solution = 15    # Area calculada\n",
    "\n",
    "# Passo para a some de riemann\n",
    "dx = float(input('Enter dx: '))\n",
    "\n",
    "# Funcao para calculo e plotagem da soma\n",
    "plot_riemann_sum(f, inf, sup, dx, solution)"
   ],
   "outputs": [
    {
     "output_type": "display_data",
     "data": {
      "text/plain": [
       "<Figure size 720x360 with 3 Axes>"
      ],
      "image/png": "[encoded data removed]"
     },
     "metadata": {
      "needs_background": "light"
     }
    }
   ],
   "metadata": {}
  },
  {
   "cell_type": "markdown",
   "source": [
    "2) Desenvolva o mesmo algoritmo, agora usando um conjunto de funções \n",
    "   livremente escolhidas que graficamente simulem um pista de skate.\n",
    "\n",
    "   Identifique as funções, algo como 4 segmentos de reta e uma parábola, \n",
    "   calcule a área usando a soma de Riemman, permitindo a escolha da \n",
    "   base do retângulo (o passo). \n",
    "\n",
    "   Escolha apenas uma aproximação para altura (esquerda, central ou direita),\n",
    "   como melhor achar conveniente.\n",
    "\n",
    "   Plote o gráfico apenas com fill between (não precisa representar as barras).\n",
    "   \n",
    "   Idealmente, apresente no gráfico a legenda de cada função utilizada,\n",
    "   a área aproximada calculada e se calculada analiticamente, a área exata\n",
    "   resultante da integração."
   ],
   "metadata": {}
  },
  {
   "cell_type": "code",
   "execution_count": 5,
   "source": [
    "# Lista das funcoes\n",
    "f_list = [lambda x:x,               # Reta crescente em [0, 1]\n",
    "          lambda x:1,               # Constante em [1, 2]\n",
    "          lambda x:(2*(x-2.5))**2,  # Parabola em [2, 3]\n",
    "          lambda x:1,               # Constante em [3, 4]\n",
    "          lambda x:-x+5]            # Reta decrescente [4, 5]\n",
    "\n",
    "# Solucao calculada da soma das integrais das funcoes\n",
    "solution = 3 + 1/3\n",
    "\n",
    "# Passo para a some de riemann\n",
    "dx = float(input('Enter dx: '))\n",
    "\n",
    "# Calculo de cada funcao no intervalo\n",
    "result = np.asarray([riemann_sum(f, i, i + 1, dx, position=\"center\")\n",
    "                     for i, f in enumerate(f_list)], dtype=object)\n",
    "\n",
    "# Pontos no eixo x\n",
    "x = np.hstack(result[:, 0])\n",
    "# Pontos no eixo y\n",
    "y = np.hstack(result[:, 1])\n",
    "# Area total\n",
    "area = np.sum(result[:, 2])\n",
    "# Erro calculado\n",
    "erro = np.abs(solution - area) / solution\n",
    "\n",
    "# Plotagem do grafico\n",
    "plt.plot(x, y, 'b.-', markersize=10)\n",
    "plt.fill_between(x, y, color = \"b\", alpha = 0.2, hatch = '|')\n",
    "plt.title(\n",
    "    f'Área aproximada: {area:.3f} | Área calculada: {solution:.3f}\\nErro: {erro*100:.2f}%')\n",
    "plt.show()"
   ],
   "outputs": [
    {
     "output_type": "display_data",
     "data": {
      "text/plain": [
       "<Figure size 432x288 with 1 Axes>"
      ],
      "image/png": "[encoded data removed]"
     },
     "metadata": {
      "needs_background": "light"
     }
    }
   ],
   "metadata": {}
  }
 ]
}